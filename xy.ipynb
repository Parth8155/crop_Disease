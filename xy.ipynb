{
 "cells": [
  {
   "cell_type": "code",
   "execution_count": 2,
   "id": "6c6d5388",
   "metadata": {},
   "outputs": [
    {
     "name": "stderr",
     "output_type": "stream",
     "text": [
      "Downloading data from 'https://github.com/danielgatis/rembg/releases/download/v0.0.0/u2net.onnx' to file 'C:\\Users\\asus\\.u2net\\u2net.onnx'.\n",
      "100%|#######################################| 176M/176M [00:00<00:00, 18.2GB/s]\n"
     ]
    },
    {
     "name": "stdout",
     "output_type": "stream",
     "text": [
      "Saved as logo.png\n"
     ]
    }
   ],
   "source": [
    "from rembg import remove\n",
    "from PIL import Image\n",
    "import io\n",
    "\n",
    "# Open the image correctly\n",
    "input_path = r\"C:\\Users\\asus\\Downloads\\ChatGPT Image Jul 19, 2025, 09_21_23 PM.png\"\n",
    "output_path = \"logo.png\"\n",
    "\n",
    "# Open as bytes\n",
    "with open(input_path, \"rb\") as inp:\n",
    "    input_bytes = inp.read()\n",
    "\n",
    "# Remove background\n",
    "output_bytes = remove(input_bytes)\n",
    "\n",
    "# Convert to image and save\n",
    "output_image = Image.open(io.BytesIO(output_bytes))\n",
    "output_image.save(output_path)\n",
    "print(\"Saved as\", output_path)\n"
   ]
  },
  {
   "cell_type": "code",
   "execution_count": null,
   "id": "558bac1e",
   "metadata": {},
   "outputs": [],
   "source": []
  }
 ],
 "metadata": {
  "kernelspec": {
   "display_name": "Python 3",
   "language": "python",
   "name": "python3"
  },
  "language_info": {
   "codemirror_mode": {
    "name": "ipython",
    "version": 3
   },
   "file_extension": ".py",
   "mimetype": "text/x-python",
   "name": "python",
   "nbconvert_exporter": "python",
   "pygments_lexer": "ipython3",
   "version": "3.13.5"
  }
 },
 "nbformat": 4,
 "nbformat_minor": 5
}
